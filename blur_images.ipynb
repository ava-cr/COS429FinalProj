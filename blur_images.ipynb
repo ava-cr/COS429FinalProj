{
 "cells": [
  {
   "cell_type": "code",
   "execution_count": 21,
   "id": "be37d4f2-3d71-4aca-8915-2872b4a5977e",
   "metadata": {},
   "outputs": [],
   "source": [
    "from PIL import Image, ImageFilter, ImageDraw\n",
    "\n",
    "# Open the image\n",
    "image = Image.open('UTKFace_one/img.jpg')\n",
    "box = (0, 20, 250, 100)  # coordinates of the area to blur\n",
    "region = image.crop(box)\n",
    "region = region.filter(ImageFilter.EDGE_ENHANCE)\n",
    "image.paste(region, box)\n",
    "image.show()\n"
   ]
  },
  {
   "cell_type": "code",
   "execution_count": 20,
   "id": "36cd1deb-0b45-4551-981e-c92f99cfd169",
   "metadata": {},
   "outputs": [],
   "source": [
    "# loop over all the files in the folder\n",
    "import os\n",
    "counter = 0\n",
    "\n",
    "for filename in os.listdir(\"UTKFace_train\"):  \n",
    "    counter += 1\n",
    "    # open the image file and convert it to a NumPy array\n",
    "    if (filename == \".DS_Store\"):\n",
    "        continue\n",
    "    with Image.open(os.path.join(\"UTKFace_train\", filename)) as img: \n",
    "        if counter % 2 == 0:\n",
    "            continue\n",
    "        img.save(f'UTKFace_trainBLUR/{filename}.jpg')\n",
    "        box = (0, 20, 250, 100)  # coordinates of the area to blur\n",
    "        region = img.crop(box)\n",
    "        region = region.filter(ImageFilter.GaussianBlur(radius=4))\n",
    "        img.paste(region, box)\n",
    "        img.save(f'UTKFace_trainBLUR/{filename}blur.jpg')"
   ]
  },
  {
   "cell_type": "code",
   "execution_count": null,
   "id": "d9b2f38e-7355-4d7e-be42-d88ca34624d4",
   "metadata": {},
   "outputs": [],
   "source": []
  }
 ],
 "metadata": {
  "kernelspec": {
   "display_name": "cos429",
   "language": "python",
   "name": "cos429"
  },
  "language_info": {
   "codemirror_mode": {
    "name": "ipython",
    "version": 3
   },
   "file_extension": ".py",
   "mimetype": "text/x-python",
   "name": "python",
   "nbconvert_exporter": "python",
   "pygments_lexer": "ipython3",
   "version": "3.7.16"
  }
 },
 "nbformat": 4,
 "nbformat_minor": 5
}
