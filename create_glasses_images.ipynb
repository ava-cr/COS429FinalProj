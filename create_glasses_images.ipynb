{
 "cells": [
  {
   "cell_type": "code",
   "execution_count": 1,
   "id": "8ee59c02-273b-4591-b9a9-6566d0116d13",
   "metadata": {},
   "outputs": [],
   "source": [
    "import pandas as pd\n",
    "from PIL import Image\n",
    "import numpy as np\n",
    "import os\n",
    "import regex as re\n",
    "import torch\n",
    "import torchvision\n",
    "import torchvision.transforms as transforms\n",
    "from torchvision.datasets import DatasetFolder\n",
    "from sklearn.model_selection import train_test_split\n",
    "import torchvision.models as models\n",
    "from torchvision.models import ResNet18_Weights\n",
    "import torch.nn as nn\n",
    "import torch.optim as optim\n",
    "import cv2"
   ]
  },
  {
   "cell_type": "code",
   "execution_count": 35,
   "id": "b21fe625-7d9f-4775-9b85-7e2b7ec048ff",
   "metadata": {},
   "outputs": [],
   "source": [
    "from PIL import Image\n",
    "\n",
    "# Open the base image\n",
    "base_img = Image.open(\"UTKFace_one/img.jpg\").convert(\"RGBA\")\n",
    "\n",
    "# Open the overlay image with transparency\n",
    "overlay_img = Image.open(\"glasses2.JPG\").convert(\"RGBA\")\n",
    "\n",
    "# Resize the overlay image to match the dimensions of the base image\n",
    "overlay_img = overlay_img.resize(base_img.size)\n",
    "\n",
    "# newimg = base_img.convert(overlay_img.mode)\n",
    "\n",
    "# Overlay the images using the alpha_composite() method\n",
    "# result_img = Image.alpha_composite(base_img, overlay_img)\n",
    "\n",
    "result_img = Image.blend(base_img, overlay_img, 0.2)\n",
    "\n",
    "\n",
    "result_img.show()"
   ]
  },
  {
   "cell_type": "code",
   "execution_count": 39,
   "id": "f1d3742d-9fbb-4d61-8513-6605f96ab22c",
   "metadata": {},
   "outputs": [],
   "source": [
    "import matplotlib.pyplot as plt\n",
    "import os\n",
    "from PIL import Image, ImageOps\n",
    "\n",
    "counter = 0\n",
    "color = 0\n",
    "\n",
    "# loop over all the files in the folder\n",
    "for filename in os.listdir(\"UTKFace_train\"):  \n",
    "    counter += 1\n",
    "    # open the image file and convert it to a NumPy array\n",
    "    if (filename == \".DS_Store\"):\n",
    "        continue\n",
    "    with Image.open(os.path.join(\"UTKFace_train\", filename)) as img:\n",
    "        img.save(f'UTKFace_trainGLASSES/{filename}.jpg')\n",
    "        img = img.convert(\"RGBA\")\n",
    "        overlay_img = Image.open(\"glasses2.JPG\").convert(\"RGBA\")\n",
    "        \n",
    "        overlay_img = overlay_img.resize(img.size)\n",
    "        result_img = Image.blend(img, overlay_img, 0.2)\n",
    "        \n",
    "        result_img.convert(\"RGB\").save(f'UTKFace_trainGLASSES/{filename}glasses.png')\n",
    "        "
   ]
  },
  {
   "cell_type": "code",
   "execution_count": null,
   "id": "7ecf6532-783b-4a38-a5d4-95220b79f222",
   "metadata": {},
   "outputs": [],
   "source": []
  }
 ],
 "metadata": {
  "kernelspec": {
   "display_name": "cos429",
   "language": "python",
   "name": "cos429"
  },
  "language_info": {
   "codemirror_mode": {
    "name": "ipython",
    "version": 3
   },
   "file_extension": ".py",
   "mimetype": "text/x-python",
   "name": "python",
   "nbconvert_exporter": "python",
   "pygments_lexer": "ipython3",
   "version": "3.7.16"
  }
 },
 "nbformat": 4,
 "nbformat_minor": 5
}
